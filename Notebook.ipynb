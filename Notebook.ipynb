{
 "cells": [
  {
   "cell_type": "markdown",
   "metadata": {},
   "source": [
    "# Project 1: Color Compressing"
   ]
  },
  {
   "cell_type": "markdown",
   "metadata": {},
   "source": [
    "## Yêu cầu: "
   ]
  },
  {
   "cell_type": "markdown",
   "metadata": {},
   "source": [
    "Cài đặt thuật toán K-means Clustering để giảm số lượng màu cho ảnh."
   ]
  },
  {
   "cell_type": "markdown",
   "metadata": {},
   "source": [
    "## Cài đặt thuật toán"
   ]
  },
  {
   "cell_type": "markdown",
   "metadata": {},
   "source": [
    "### Import thư viện numpy"
   ]
  },
  {
   "cell_type": "code",
   "execution_count": null,
   "metadata": {},
   "outputs": [],
   "source": [
    "import numpy as np"
   ]
  },
  {
   "cell_type": "markdown",
   "metadata": {},
   "source": [
    "### Khởi tạo centroids"
   ]
  },
  {
   "cell_type": "markdown",
   "metadata": {},
   "source": [
    "Centroids có thể được khởi tạo bằng hai cách:\n",
    "* random: Centroids có `c` kênh màu, mỗi kênh màu `c` được khởi tạo giá trị ngẫu nhiên trong khoảng [0, 255]\n",
    "* in_pixels: Centroids được chọn ngẫu nhiên trong các pixel của ảnh"
   ]
  },
  {
   "cell_type": "code",
   "execution_count": null,
   "metadata": {},
   "outputs": [],
   "source": [
    "def initialize_centroids(img, k_clusters, init_type):\n",
    "    if init_type == 'random':\n",
    "        return np.random.randint(0, 256, size=(k_clusters, len(img[0])))\n",
    "    elif init_type == 'in_pixels':\n",
    "        return img[np.random.choice(img.shape[0], size=k_clusters), :]\n",
    "    else:\n",
    "        return None"
   ]
  },
  {
   "cell_type": "markdown",
   "metadata": {},
   "source": [
    "### Dán label cho từng điểm ảnh"
   ]
  },
  {
   "cell_type": "markdown",
   "metadata": {},
   "source": [
    "Label của một điểm ảnh là index của centroid mà khoảng cách từ điểm ảnh đến centroid đó là gần nhất"
   ]
  },
  {
   "cell_type": "code",
   "execution_count": null,
   "metadata": {},
   "outputs": [],
   "source": [
    "def label_pixels(img, centroids):\n",
    "    # With every pixel, get minimum distance (Euclidean distance) and label that pixel      \n",
    "    return np.argmin(np.linalg.norm(img - centroids[:, None], axis=2), axis=0)"
   ]
  },
  {
   "cell_type": "markdown",
   "metadata": {},
   "source": [
    "### Cập nhật centroid"
   ]
  },
  {
   "cell_type": "markdown",
   "metadata": {},
   "source": [
    "Centroid mới là trung bình của các điểm ảnh thuộc cluster của centroid cũ đó"
   ]
  },
  {
   "cell_type": "code",
   "execution_count": null,
   "metadata": {},
   "outputs": [],
   "source": [
    "def update_centroids(img, labels, old_centroids_shape):\n",
    "    centroids = np.zeros(old_centroids_shape)\n",
    "    \n",
    "    # With every centroid\n",
    "    for i in range(old_centroids_shape[0]):\n",
    "        # Pixels in cluster i\n",
    "        pixels = img[labels == i]\n",
    "\n",
    "        # Calculate new centroid using mean on rows with each cluster\n",
    "        if pixels.shape[0]: # Prevent nan values\n",
    "            centroids[i] = np.mean(pixels, axis=0)\n",
    "        \n",
    "    return centroids"
   ]
  },
  {
   "cell_type": "markdown",
   "metadata": {},
   "source": [
    "### Thuật toán K-means Clustering"
   ]
  },
  {
   "cell_type": "markdown",
   "metadata": {},
   "source": [
    "Gồm 4 bước chính:\n",
    "* Bước 1: Khởi tạo centroids\n",
    "* Bước 2: Dán label cho từng điểm ảnh\n",
    "* Bước 3: Cập nhật lại centroids\n",
    "* Bước 4: Lặp lại bước 2 và 3 cho tới khi đạt điều kiện dừng"
   ]
  },
  {
   "cell_type": "code",
   "execution_count": null,
   "metadata": {},
   "outputs": [],
   "source": [
    "def kmeans(img_1d, k_clusters, max_iter, init_centroids):\n",
    "    # Initialize cluster centroids and label\n",
    "    centroids = initialize_centroids(img_1d, k_clusters, init_centroids)\n",
    "    labels = np.full(img_1d.shape[0], -1)\n",
    "    \n",
    "    # Run K-means\n",
    "    for i in range(max_iter): \n",
    "        # Label every pixels with a centroid\n",
    "        labels = label_pixels(img_1d, centroids)\n",
    "\n",
    "        # Save old centroids\n",
    "        old_centroids = centroids \n",
    "                \n",
    "        # Recompute centroids based on current clusters\n",
    "        centroids = update_centroids(img_1d, labels, centroids.shape)\n",
    "\n",
    "        # Check cenverges\n",
    "        if np.allclose(old_centroids, centroids, rtol=10e-3, equal_nan=False):\n",
    "            break\n",
    "\n",
    "    return centroids, labels"
   ]
  },
  {
   "cell_type": "markdown",
   "metadata": {},
   "source": [
    "## Chạy thuật toán với hình ảnh cụ thể"
   ]
  },
  {
   "cell_type": "markdown",
   "metadata": {},
   "source": [
    "### Mở ảnh và tiền xử lí ảnh"
   ]
  },
  {
   "cell_type": "code",
   "execution_count": null,
   "metadata": {},
   "outputs": [],
   "source": [
    "from PIL import Image\n",
    "\n",
    "# Input file name\n",
    "input_file = 'rainbow.jpg'\n",
    "\n",
    "# Open image\n",
    "image = Image.open(input_file)\n",
    "\n",
    "# Convert image to numpy arrays\n",
    "image = np.array(image)\n",
    "\n",
    "# Flat image to a 1D array to fit function's argument\n",
    "flat_image = image.reshape(image.shape[0] * image.shape[1], image.shape[2])"
   ]
  },
  {
   "cell_type": "markdown",
   "metadata": {},
   "source": [
    "### Gán các giá trị cần thiết"
   ]
  },
  {
   "cell_type": "code",
   "execution_count": null,
   "metadata": {},
   "outputs": [],
   "source": [
    "# Init number of clusters\n",
    "k_clusters = 7\n",
    "\n",
    "# Init maximum iterator for stop criterion of K-means function\n",
    "max_iter = 1000\n",
    "\n",
    "# Init centroids type\n",
    "init_centroids = 'random'"
   ]
  },
  {
   "cell_type": "markdown",
   "metadata": {},
   "source": [
    "### Chạy K-means Clustering với ảnh và các tham số đã được gán "
   ]
  },
  {
   "cell_type": "code",
   "execution_count": null,
   "metadata": {
    "scrolled": false,
    "tags": []
   },
   "outputs": [],
   "source": [
    "# Run K-means\n",
    "centroids, labels = kmeans(flat_image, k_clusters, max_iter, init_centroids)"
   ]
  },
  {
   "cell_type": "markdown",
   "metadata": {},
   "source": [
    "### Khôi phục ảnh"
   ]
  },
  {
   "cell_type": "code",
   "execution_count": null,
   "metadata": {
    "tags": []
   },
   "outputs": [],
   "source": [
    "# With every pixel, replace that pixel with its centroid\n",
    "result = centroids[labels].astype(np.uint8)\n",
    "\n",
    "# Reshape to the original shape\n",
    "result = result.reshape(image.shape)"
   ]
  },
  {
   "cell_type": "markdown",
   "metadata": {},
   "source": [
    "### Hiển thị ảnh ở notebook"
   ]
  },
  {
   "cell_type": "code",
   "execution_count": null,
   "metadata": {
    "tags": []
   },
   "outputs": [],
   "source": [
    "import matplotlib.pyplot as plt \n",
    "\n",
    "# Show image\n",
    "plt.imshow(result)"
   ]
  },
  {
   "cell_type": "markdown",
   "metadata": {},
   "source": [
    "### Xuất ảnh ra file"
   ]
  },
  {
   "cell_type": "code",
   "execution_count": null,
   "metadata": {
    "tags": []
   },
   "outputs": [],
   "source": [
    "output_file = input_file.split('.')[0] + '_k' + str(k_clusters) + '.png'\n",
    "\n",
    "# Export image to file\n",
    "Image.fromarray(result.astype(np.uint8)).save(output_file)"
   ]
  }
 ],
 "metadata": {
  "kernelspec": {
   "display_name": "Python 3",
   "language": "python",
   "name": "python3"
  },
  "language_info": {
   "codemirror_mode": {
    "name": "ipython",
    "version": 3
   },
   "file_extension": ".py",
   "mimetype": "text/x-python",
   "name": "python",
   "nbconvert_exporter": "python",
   "pygments_lexer": "ipython3",
   "version": "3.7.6-final"
  }
 },
 "nbformat": 4,
 "nbformat_minor": 4
}