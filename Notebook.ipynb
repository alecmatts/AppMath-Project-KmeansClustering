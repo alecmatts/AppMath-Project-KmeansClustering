{
 "cells": [
  {
   "cell_type": "markdown",
   "metadata": {},
   "source": [
    "# Project 1: Color Compressing"
   ]
  },
  {
   "cell_type": "markdown",
   "metadata": {},
   "source": [
    "## Yêu cầu: "
   ]
  },
  {
   "cell_type": "markdown",
   "metadata": {},
   "source": [
    "Cài đặt thuật toán K-means Clustering để giảm số lượng màu cho ảnh."
   ]
  },
  {
   "cell_type": "markdown",
   "metadata": {},
   "source": [
    "## Cài đặt thuật toán"
   ]
  },
  {
   "cell_type": "markdown",
   "metadata": {},
   "source": [
    "### Import thư viện numpy"
   ]
  },
  {
   "cell_type": "code",
   "execution_count": 45,
   "metadata": {},
   "outputs": [],
   "source": [
    "import numpy as np"
   ]
  },
  {
   "cell_type": "markdown",
   "metadata": {},
   "source": [
    "### Khởi tạo centroids"
   ]
  },
  {
   "cell_type": "markdown",
   "metadata": {},
   "source": [
    "Centroids có thể được khởi tạo bằng hai cách:\n",
    "* random: Centroids có `c` kênh màu, mỗi kênh màu `c` được khởi tạo giá trị ngẫu nhiên trong khoảng [0, 255]\n",
    "* in_pixels: Centroids được chọn ngẫu nhiên trong các pixel của ảnh"
   ]
  },
  {
   "cell_type": "code",
   "execution_count": 46,
   "metadata": {},
   "outputs": [],
   "source": [
    "def initialize_centroids(img, k_clusters, init_type):\n",
    "    if init_type == 'random':\n",
    "        return np.random.randint(0, 256, size=(k_clusters, len(img[0])))\n",
    "    elif init_type == 'in_pixels':\n",
    "        return img[np.random.choice(img.shape[0], size=k_clusters), :]\n",
    "    else:\n",
    "        return None"
   ]
  },
  {
   "cell_type": "markdown",
   "metadata": {},
   "source": [
    "### Dán label cho từng điểm ảnh"
   ]
  },
  {
   "cell_type": "markdown",
   "metadata": {},
   "source": [
    "Label của một điểm ảnh là index của centroid mà khoảng cách từ điểm ảnh đến centroid đó là gần nhất"
   ]
  },
  {
   "cell_type": "code",
   "execution_count": 47,
   "metadata": {},
   "outputs": [],
   "source": [
    "def label_pixels(img, centroids):\n",
    "    # With every pixel, get minimum distance (Euclidean distance) and label that pixel      \n",
    "    return np.argmin(np.linalg.norm(img - centroids[:, None], axis=2), axis=0)"
   ]
  },
  {
   "cell_type": "markdown",
   "metadata": {},
   "source": [
    "### Cập nhật centroid"
   ]
  },
  {
   "cell_type": "markdown",
   "metadata": {},
   "source": [
    "Centroid mới là trung bình của các điểm ảnh thuộc cluster của centroid cũ đó"
   ]
  },
  {
   "cell_type": "code",
   "execution_count": 48,
   "metadata": {},
   "outputs": [],
   "source": [
    "def update_centroids(img, labels, old_centroids_shape):\n",
    "    centroids = np.zeros(old_centroids_shape)\n",
    "    \n",
    "    # With every centroid\n",
    "    for i in range(old_centroids_shape[0]):\n",
    "        # Calculate new centroid using mean on rows with each cluster\n",
    "        centroids[i] = np.mean(img[labels == i], axis=0)\n",
    "        \n",
    "    return centroids"
   ]
  },
  {
   "cell_type": "markdown",
   "metadata": {},
   "source": [
    "### Thuật toán K-means Clustering"
   ]
  },
  {
   "cell_type": "markdown",
   "metadata": {},
   "source": [
    "Gồm 4 bước chính:\n",
    "* Bước 1: Khởi tạo centroids\n",
    "* Bước 2: Dán label cho từng điểm ảnh\n",
    "* Bước 3: Cập nhật lại centroids\n",
    "* Bước 4: Lặp lại bước 2 và 3 cho tới khi đạt điều kiện dừng"
   ]
  },
  {
   "cell_type": "code",
   "execution_count": 49,
   "metadata": {},
   "outputs": [],
   "source": [
    "import time\n",
    "\n",
    "def kmeans(img_1d, k_clusters, max_iter, init_centroids):\n",
    "    # Initialize cluster centroids and label\n",
    "    centroids = initialize_centroids(img_1d, k_clusters, init_centroids)\n",
    "    labels = np.full(img_1d.shape[0], -1)\n",
    "    \n",
    "    # Run K-means\n",
    "    for i in range(max_iter):   \n",
    "        # Label every pixels with a centroid\n",
    "        labels = label_pixels(img_1d, centroids)\n",
    "\n",
    "        # Recompute centroids based on current clusters\n",
    "        centroids = update_centroids(img_1d, labels, centroids.shape)\n",
    "            \n",
    "    return centroids, labels"
   ]
  },
  {
   "cell_type": "markdown",
   "metadata": {},
   "source": [
    "## Chạy thuật toán với hình ảnh cụ thể"
   ]
  },
  {
   "cell_type": "markdown",
   "metadata": {},
   "source": [
    "### Mở ảnh và tiền xử lí ảnh"
   ]
  },
  {
   "cell_type": "code",
   "execution_count": 50,
   "metadata": {},
   "outputs": [],
   "source": [
    "from PIL import Image\n",
    "\n",
    "# Open image\n",
    "image = Image.open('choker1k.png')\n",
    "\n",
    "# Convert image to numpy arrays\n",
    "image = np.array(image)\n",
    "\n",
    "# Flat image to a 1D array to fit function's argument\n",
    "flat_image = image.reshape(image.shape[0] * image.shape[1], image.shape[2])"
   ]
  },
  {
   "cell_type": "markdown",
   "metadata": {},
   "source": [
    "### Gán các giá trị cần thiết"
   ]
  },
  {
   "cell_type": "code",
   "execution_count": 51,
   "metadata": {},
   "outputs": [],
   "source": [
    "# Init number of clusters\n",
    "k_clusters = 7  \n",
    "\n",
    "# Init maximum iterator for stop criterion of K-means function\n",
    "max_iter = 5\n",
    "\n",
    "# Init centroids type\n",
    "init_centroids = 'random'"
   ]
  },
  {
   "cell_type": "markdown",
   "metadata": {},
   "source": [
    "### Chạy K-means Clustering với ảnh và các tham số đã được gán "
   ]
  },
  {
   "cell_type": "code",
   "execution_count": 52,
   "metadata": {
    "scrolled": false,
    "tags": []
   },
   "outputs": [
    {
     "output_type": "stream",
     "name": "stdout",
     "text": "2.256381499999975\n"
    }
   ],
   "source": [
    "# Run K-means\n",
    "import time\n",
    "before = time.perf_counter()\n",
    "centroids, labels = kmeans(flat_image, k_clusters, max_iter, init_centroids)\n",
    "print(time.perf_counter() - before)"
   ]
  },
  {
   "cell_type": "markdown",
   "metadata": {},
   "source": [
    "### Khôi phục ảnh"
   ]
  },
  {
   "cell_type": "code",
   "execution_count": 53,
   "metadata": {
    "tags": []
   },
   "outputs": [],
   "source": [
    "# With every pixel, replace that pixel with its centroid\n",
    "result = centroids[labels].astype(np.uint8)\n",
    "\n",
    "# Reshape to the original shape\n",
    "result = result.reshape(image.shape)"
   ]
  },
  {
   "cell_type": "markdown",
   "metadata": {},
   "source": [
    "### Hiển thị ảnh ở notebook"
   ]
  },
  {
   "cell_type": "code",
   "execution_count": 54,
   "metadata": {
    "tags": []
   },
   "outputs": [
    {
     "output_type": "execute_result",
     "data": {
      "text/plain": "<matplotlib.image.AxesImage at 0x28002246888>"
     },
     "metadata": {},
     "execution_count": 54
    },
    {
     "output_type": "display_data",
     "data": {
      "text/plain": "<Figure size 432x288 with 1 Axes>",
      "image/svg+xml": "<?xml version=\"1.0\" encoding=\"utf-8\" standalone=\"no\"?>\r\n<!DOCTYPE svg PUBLIC \"-//W3C//DTD SVG 1.1//EN\"\r\n  \"http://www.w3.org/Graphics/SVG/1.1/DTD/svg11.dtd\">\r\n<!-- Created with matplotlib (https://matplotlib.org/) -->\r\n<svg height=\"252.208624pt\" version=\"1.1\" viewBox=\"0 0 257.9275 252.208624\" width=\"257.9275pt\" xmlns=\"http://www.w3.org/2000/svg\" xmlns:xlink=\"http://www.w3.org/1999/xlink\">\r\n <defs>\r\n  <style type=\"text/css\">\r\n*{stroke-linecap:butt;stroke-linejoin:round;}\r\n  </style>\r\n </defs>\r\n <g id=\"figure_1\">\r\n  <g id=\"patch_1\">\r\n   <path d=\"M 0 252.208624 \r\nL 257.9275 252.208624 \r\nL 257.9275 0 \r\nL 0 0 \r\nz\r\n\" style=\"fill:none;\"/>\r\n  </g>\r\n  <g id=\"axes_1\">\r\n   <g id=\"patch_2\">\r\n    <path d=\"M 33.2875 228.330499 \r\nL 250.7275 228.330499 \r\nL 250.7275 10.890499 \r\nL 33.2875 10.890499 \r\nz\r\n\" style=\"fill:#ffffff;\"/>\r\n   </g>\r\n   <g clip-path=\"url(#p57622103d2)\">\r\n    <image height=\"218\" id=\"imageefbcc39790\" transform=\"scale(1 -1)translate(0 -218)\" width=\"218\" x=\"33.2875\" xlink:href=\"data:image/png;base64,\r\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\" y=\"-10.330499\"/>\r\n   </g>\r\n   <g id=\"matplotlib.axis_1\">\r\n    <g id=\"xtick_1\">\r\n     <g id=\"line2d_1\">\r\n      <defs>\r\n       <path d=\"M 0 0 \r\nL 0 3.5 \r\n\" id=\"mb4cd5aabc4\" style=\"stroke:#000000;stroke-width:0.8;\"/>\r\n      </defs>\r\n      <g>\r\n       <use style=\"stroke:#000000;stroke-width:0.8;\" x=\"33.39622\" xlink:href=\"#mb4cd5aabc4\" y=\"228.330499\"/>\r\n      </g>\r\n     </g>\r\n     <g id=\"text_1\">\r\n      <!-- 0 -->\r\n      <defs>\r\n       <path d=\"M 31.78125 66.40625 \r\nQ 24.171875 66.40625 20.328125 58.90625 \r\nQ 16.5 51.421875 16.5 36.375 \r\nQ 16.5 21.390625 20.328125 13.890625 \r\nQ 24.171875 6.390625 31.78125 6.390625 \r\nQ 39.453125 6.390625 43.28125 13.890625 \r\nQ 47.125 21.390625 47.125 36.375 \r\nQ 47.125 51.421875 43.28125 58.90625 \r\nQ 39.453125 66.40625 31.78125 66.40625 \r\nz\r\nM 31.78125 74.21875 \r\nQ 44.046875 74.21875 50.515625 64.515625 \r\nQ 56.984375 54.828125 56.984375 36.375 \r\nQ 56.984375 17.96875 50.515625 8.265625 \r\nQ 44.046875 -1.421875 31.78125 -1.421875 \r\nQ 19.53125 -1.421875 13.0625 8.265625 \r\nQ 6.59375 17.96875 6.59375 36.375 \r\nQ 6.59375 54.828125 13.0625 64.515625 \r\nQ 19.53125 74.21875 31.78125 74.21875 \r\nz\r\n\" id=\"DejaVuSans-48\"/>\r\n      </defs>\r\n      <g transform=\"translate(30.21497 242.928936)scale(0.1 -0.1)\">\r\n       <use xlink:href=\"#DejaVuSans-48\"/>\r\n      </g>\r\n     </g>\r\n    </g>\r\n    <g id=\"xtick_2\">\r\n     <g id=\"line2d_2\">\r\n      <g>\r\n       <use style=\"stroke:#000000;stroke-width:0.8;\" x=\"76.88422\" xlink:href=\"#mb4cd5aabc4\" y=\"228.330499\"/>\r\n      </g>\r\n     </g>\r\n     <g id=\"text_2\">\r\n      <!-- 200 -->\r\n      <defs>\r\n       <path d=\"M 19.1875 8.296875 \r\nL 53.609375 8.296875 \r\nL 53.609375 0 \r\nL 7.328125 0 \r\nL 7.328125 8.296875 \r\nQ 12.9375 14.109375 22.625 23.890625 \r\nQ 32.328125 33.6875 34.8125 36.53125 \r\nQ 39.546875 41.84375 41.421875 45.53125 \r\nQ 43.3125 49.21875 43.3125 52.78125 \r\nQ 43.3125 58.59375 39.234375 62.25 \r\nQ 35.15625 65.921875 28.609375 65.921875 \r\nQ 23.96875 65.921875 18.8125 64.3125 \r\nQ 13.671875 62.703125 7.8125 59.421875 \r\nL 7.8125 69.390625 \r\nQ 13.765625 71.78125 18.9375 73 \r\nQ 24.125 74.21875 28.421875 74.21875 \r\nQ 39.75 74.21875 46.484375 68.546875 \r\nQ 53.21875 62.890625 53.21875 53.421875 \r\nQ 53.21875 48.921875 51.53125 44.890625 \r\nQ 49.859375 40.875 45.40625 35.40625 \r\nQ 44.1875 33.984375 37.640625 27.21875 \r\nQ 31.109375 20.453125 19.1875 8.296875 \r\nz\r\n\" id=\"DejaVuSans-50\"/>\r\n      </defs>\r\n      <g transform=\"translate(67.34047 242.928936)scale(0.1 -0.1)\">\r\n       <use xlink:href=\"#DejaVuSans-50\"/>\r\n       <use x=\"63.623047\" xlink:href=\"#DejaVuSans-48\"/>\r\n       <use x=\"127.246094\" xlink:href=\"#DejaVuSans-48\"/>\r\n      </g>\r\n     </g>\r\n    </g>\r\n    <g id=\"xtick_3\">\r\n     <g id=\"line2d_3\">\r\n      <g>\r\n       <use style=\"stroke:#000000;stroke-width:0.8;\" x=\"120.37222\" xlink:href=\"#mb4cd5aabc4\" y=\"228.330499\"/>\r\n      </g>\r\n     </g>\r\n     <g id=\"text_3\">\r\n      <!-- 400 -->\r\n      <defs>\r\n       <path d=\"M 37.796875 64.3125 \r\nL 12.890625 25.390625 \r\nL 37.796875 25.390625 \r\nz\r\nM 35.203125 72.90625 \r\nL 47.609375 72.90625 \r\nL 47.609375 25.390625 \r\nL 58.015625 25.390625 \r\nL 58.015625 17.1875 \r\nL 47.609375 17.1875 \r\nL 47.609375 0 \r\nL 37.796875 0 \r\nL 37.796875 17.1875 \r\nL 4.890625 17.1875 \r\nL 4.890625 26.703125 \r\nz\r\n\" id=\"DejaVuSans-52\"/>\r\n      </defs>\r\n      <g transform=\"translate(110.82847 242.928936)scale(0.1 -0.1)\">\r\n       <use xlink:href=\"#DejaVuSans-52\"/>\r\n       <use x=\"63.623047\" xlink:href=\"#DejaVuSans-48\"/>\r\n       <use x=\"127.246094\" xlink:href=\"#DejaVuSans-48\"/>\r\n      </g>\r\n     </g>\r\n    </g>\r\n    <g id=\"xtick_4\">\r\n     <g id=\"line2d_4\">\r\n      <g>\r\n       <use style=\"stroke:#000000;stroke-width:0.8;\" x=\"163.86022\" xlink:href=\"#mb4cd5aabc4\" y=\"228.330499\"/>\r\n      </g>\r\n     </g>\r\n     <g id=\"text_4\">\r\n      <!-- 600 -->\r\n      <defs>\r\n       <path d=\"M 33.015625 40.375 \r\nQ 26.375 40.375 22.484375 35.828125 \r\nQ 18.609375 31.296875 18.609375 23.390625 \r\nQ 18.609375 15.53125 22.484375 10.953125 \r\nQ 26.375 6.390625 33.015625 6.390625 \r\nQ 39.65625 6.390625 43.53125 10.953125 \r\nQ 47.40625 15.53125 47.40625 23.390625 \r\nQ 47.40625 31.296875 43.53125 35.828125 \r\nQ 39.65625 40.375 33.015625 40.375 \r\nz\r\nM 52.59375 71.296875 \r\nL 52.59375 62.3125 \r\nQ 48.875 64.0625 45.09375 64.984375 \r\nQ 41.3125 65.921875 37.59375 65.921875 \r\nQ 27.828125 65.921875 22.671875 59.328125 \r\nQ 17.53125 52.734375 16.796875 39.40625 \r\nQ 19.671875 43.65625 24.015625 45.921875 \r\nQ 28.375 48.1875 33.59375 48.1875 \r\nQ 44.578125 48.1875 50.953125 41.515625 \r\nQ 57.328125 34.859375 57.328125 23.390625 \r\nQ 57.328125 12.15625 50.6875 5.359375 \r\nQ 44.046875 -1.421875 33.015625 -1.421875 \r\nQ 20.359375 -1.421875 13.671875 8.265625 \r\nQ 6.984375 17.96875 6.984375 36.375 \r\nQ 6.984375 53.65625 15.1875 63.9375 \r\nQ 23.390625 74.21875 37.203125 74.21875 \r\nQ 40.921875 74.21875 44.703125 73.484375 \r\nQ 48.484375 72.75 52.59375 71.296875 \r\nz\r\n\" id=\"DejaVuSans-54\"/>\r\n      </defs>\r\n      <g transform=\"translate(154.31647 242.928936)scale(0.1 -0.1)\">\r\n       <use xlink:href=\"#DejaVuSans-54\"/>\r\n       <use x=\"63.623047\" xlink:href=\"#DejaVuSans-48\"/>\r\n       <use x=\"127.246094\" xlink:href=\"#DejaVuSans-48\"/>\r\n      </g>\r\n     </g>\r\n    </g>\r\n    <g id=\"xtick_5\">\r\n     <g id=\"line2d_5\">\r\n      <g>\r\n       <use style=\"stroke:#000000;stroke-width:0.8;\" x=\"207.34822\" xlink:href=\"#mb4cd5aabc4\" y=\"228.330499\"/>\r\n      </g>\r\n     </g>\r\n     <g id=\"text_5\">\r\n      <!-- 800 -->\r\n      <defs>\r\n       <path d=\"M 31.78125 34.625 \r\nQ 24.75 34.625 20.71875 30.859375 \r\nQ 16.703125 27.09375 16.703125 20.515625 \r\nQ 16.703125 13.921875 20.71875 10.15625 \r\nQ 24.75 6.390625 31.78125 6.390625 \r\nQ 38.8125 6.390625 42.859375 10.171875 \r\nQ 46.921875 13.96875 46.921875 20.515625 \r\nQ 46.921875 27.09375 42.890625 30.859375 \r\nQ 38.875 34.625 31.78125 34.625 \r\nz\r\nM 21.921875 38.8125 \r\nQ 15.578125 40.375 12.03125 44.71875 \r\nQ 8.5 49.078125 8.5 55.328125 \r\nQ 8.5 64.0625 14.71875 69.140625 \r\nQ 20.953125 74.21875 31.78125 74.21875 \r\nQ 42.671875 74.21875 48.875 69.140625 \r\nQ 55.078125 64.0625 55.078125 55.328125 \r\nQ 55.078125 49.078125 51.53125 44.71875 \r\nQ 48 40.375 41.703125 38.8125 \r\nQ 48.828125 37.15625 52.796875 32.3125 \r\nQ 56.78125 27.484375 56.78125 20.515625 \r\nQ 56.78125 9.90625 50.3125 4.234375 \r\nQ 43.84375 -1.421875 31.78125 -1.421875 \r\nQ 19.734375 -1.421875 13.25 4.234375 \r\nQ 6.78125 9.90625 6.78125 20.515625 \r\nQ 6.78125 27.484375 10.78125 32.3125 \r\nQ 14.796875 37.15625 21.921875 38.8125 \r\nz\r\nM 18.3125 54.390625 \r\nQ 18.3125 48.734375 21.84375 45.5625 \r\nQ 25.390625 42.390625 31.78125 42.390625 \r\nQ 38.140625 42.390625 41.71875 45.5625 \r\nQ 45.3125 48.734375 45.3125 54.390625 \r\nQ 45.3125 60.0625 41.71875 63.234375 \r\nQ 38.140625 66.40625 31.78125 66.40625 \r\nQ 25.390625 66.40625 21.84375 63.234375 \r\nQ 18.3125 60.0625 18.3125 54.390625 \r\nz\r\n\" id=\"DejaVuSans-56\"/>\r\n      </defs>\r\n      <g transform=\"translate(197.80447 242.928936)scale(0.1 -0.1)\">\r\n       <use xlink:href=\"#DejaVuSans-56\"/>\r\n       <use x=\"63.623047\" xlink:href=\"#DejaVuSans-48\"/>\r\n       <use x=\"127.246094\" xlink:href=\"#DejaVuSans-48\"/>\r\n      </g>\r\n     </g>\r\n    </g>\r\n   </g>\r\n   <g id=\"matplotlib.axis_2\">\r\n    <g id=\"ytick_1\">\r\n     <g id=\"line2d_6\">\r\n      <defs>\r\n       <path d=\"M 0 0 \r\nL -3.5 0 \r\n\" id=\"m2a5b81e0c3\" style=\"stroke:#000000;stroke-width:0.8;\"/>\r\n      </defs>\r\n      <g>\r\n       <use style=\"stroke:#000000;stroke-width:0.8;\" x=\"33.2875\" xlink:href=\"#m2a5b81e0c3\" y=\"10.999219\"/>\r\n      </g>\r\n     </g>\r\n     <g id=\"text_6\">\r\n      <!-- 0 -->\r\n      <g transform=\"translate(19.925 14.798437)scale(0.1 -0.1)\">\r\n       <use xlink:href=\"#DejaVuSans-48\"/>\r\n      </g>\r\n     </g>\r\n    </g>\r\n    <g id=\"ytick_2\">\r\n     <g id=\"line2d_7\">\r\n      <g>\r\n       <use style=\"stroke:#000000;stroke-width:0.8;\" x=\"33.2875\" xlink:href=\"#m2a5b81e0c3\" y=\"54.487219\"/>\r\n      </g>\r\n     </g>\r\n     <g id=\"text_7\">\r\n      <!-- 200 -->\r\n      <g transform=\"translate(7.2 58.286437)scale(0.1 -0.1)\">\r\n       <use xlink:href=\"#DejaVuSans-50\"/>\r\n       <use x=\"63.623047\" xlink:href=\"#DejaVuSans-48\"/>\r\n       <use x=\"127.246094\" xlink:href=\"#DejaVuSans-48\"/>\r\n      </g>\r\n     </g>\r\n    </g>\r\n    <g id=\"ytick_3\">\r\n     <g id=\"line2d_8\">\r\n      <g>\r\n       <use style=\"stroke:#000000;stroke-width:0.8;\" x=\"33.2875\" xlink:href=\"#m2a5b81e0c3\" y=\"97.975219\"/>\r\n      </g>\r\n     </g>\r\n     <g id=\"text_8\">\r\n      <!-- 400 -->\r\n      <g transform=\"translate(7.2 101.774437)scale(0.1 -0.1)\">\r\n       <use xlink:href=\"#DejaVuSans-52\"/>\r\n       <use x=\"63.623047\" xlink:href=\"#DejaVuSans-48\"/>\r\n       <use x=\"127.246094\" xlink:href=\"#DejaVuSans-48\"/>\r\n      </g>\r\n     </g>\r\n    </g>\r\n    <g id=\"ytick_4\">\r\n     <g id=\"line2d_9\">\r\n      <g>\r\n       <use style=\"stroke:#000000;stroke-width:0.8;\" x=\"33.2875\" xlink:href=\"#m2a5b81e0c3\" y=\"141.463219\"/>\r\n      </g>\r\n     </g>\r\n     <g id=\"text_9\">\r\n      <!-- 600 -->\r\n      <g transform=\"translate(7.2 145.262437)scale(0.1 -0.1)\">\r\n       <use xlink:href=\"#DejaVuSans-54\"/>\r\n       <use x=\"63.623047\" xlink:href=\"#DejaVuSans-48\"/>\r\n       <use x=\"127.246094\" xlink:href=\"#DejaVuSans-48\"/>\r\n      </g>\r\n     </g>\r\n    </g>\r\n    <g id=\"ytick_5\">\r\n     <g id=\"line2d_10\">\r\n      <g>\r\n       <use style=\"stroke:#000000;stroke-width:0.8;\" x=\"33.2875\" xlink:href=\"#m2a5b81e0c3\" y=\"184.951219\"/>\r\n      </g>\r\n     </g>\r\n     <g id=\"text_10\">\r\n      <!-- 800 -->\r\n      <g transform=\"translate(7.2 188.750437)scale(0.1 -0.1)\">\r\n       <use xlink:href=\"#DejaVuSans-56\"/>\r\n       <use x=\"63.623047\" xlink:href=\"#DejaVuSans-48\"/>\r\n       <use x=\"127.246094\" xlink:href=\"#DejaVuSans-48\"/>\r\n      </g>\r\n     </g>\r\n    </g>\r\n   </g>\r\n   <g id=\"patch_3\">\r\n    <path d=\"M 33.2875 228.330499 \r\nL 33.2875 10.890499 \r\n\" style=\"fill:none;stroke:#000000;stroke-linecap:square;stroke-linejoin:miter;stroke-width:0.8;\"/>\r\n   </g>\r\n   <g id=\"patch_4\">\r\n    <path d=\"M 250.7275 228.330499 \r\nL 250.7275 10.890499 \r\n\" style=\"fill:none;stroke:#000000;stroke-linecap:square;stroke-linejoin:miter;stroke-width:0.8;\"/>\r\n   </g>\r\n   <g id=\"patch_5\">\r\n    <path d=\"M 33.2875 228.330499 \r\nL 250.7275 228.330499 \r\n\" style=\"fill:none;stroke:#000000;stroke-linecap:square;stroke-linejoin:miter;stroke-width:0.8;\"/>\r\n   </g>\r\n   <g id=\"patch_6\">\r\n    <path d=\"M 33.2875 10.890499 \r\nL 250.7275 10.890499 \r\n\" style=\"fill:none;stroke:#000000;stroke-linecap:square;stroke-linejoin:miter;stroke-width:0.8;\"/>\r\n   </g>\r\n  </g>\r\n </g>\r\n <defs>\r\n  <clipPath id=\"p57622103d2\">\r\n   <rect height=\"217.44\" width=\"217.44\" x=\"33.2875\" y=\"10.890499\"/>\r\n  </clipPath>\r\n </defs>\r\n</svg>\r\n",
      "image/png": "[encoded data removed]"
     },
     "metadata": {
      "needs_background": "light"
     }
    }
   ],
   "source": [
    "import matplotlib.pyplot as plt \n",
    "\n",
    "# Show image\n",
    "plt.imshow(result)"
   ]
  },
  {
   "cell_type": "markdown",
   "metadata": {},
   "source": [
    "### Xuất ảnh ra file"
   ]
  },
  {
   "cell_type": "code",
   "execution_count": 55,
   "metadata": {},
   "outputs": [],
   "source": [
    "# Export image to file\n",
    "Image.fromarray(result.astype(np.uint8)).save('output.png')"
   ]
  }
 ],
 "metadata": {
  "kernelspec": {
   "display_name": "Python 3",
   "language": "python",
   "name": "python3"
  },
  "language_info": {
   "codemirror_mode": {
    "name": "ipython",
    "version": 3
   },
   "file_extension": ".py",
   "mimetype": "text/x-python",
   "name": "python",
   "nbconvert_exporter": "python",
   "pygments_lexer": "ipython3",
   "version": "3.7.6-final"
  }
 },
 "nbformat": 4,
 "nbformat_minor": 4
}